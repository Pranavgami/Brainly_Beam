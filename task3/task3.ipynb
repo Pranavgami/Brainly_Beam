{
 "cells": [
  {
   "cell_type": "code",
   "execution_count": 1,
   "id": "73bfc88e-80e0-4508-a229-58cf7b241dc6",
   "metadata": {},
   "outputs": [
    {
     "name": "stdout",
     "output_type": "stream",
     "text": [
      "Requirement already satisfied: docx2pdf in c:\\users\\romil\\anaconda3\\lib\\site-packages (0.1.8)\n",
      "Requirement already satisfied: pywin32>=227 in c:\\users\\romil\\anaconda3\\lib\\site-packages (from docx2pdf) (305.1)\n",
      "Requirement already satisfied: tqdm>=4.41.0 in c:\\users\\romil\\anaconda3\\lib\\site-packages (from docx2pdf) (4.65.0)\n",
      "Requirement already satisfied: colorama in c:\\users\\romil\\anaconda3\\lib\\site-packages (from tqdm>=4.41.0->docx2pdf) (0.4.6)\n",
      "Note: you may need to restart the kernel to use updated packages.\n"
     ]
    }
   ],
   "source": [
    "pip install docx2pdf"
   ]
  },
  {
   "cell_type": "code",
   "execution_count": 2,
   "id": "f1177ba7-7bb6-4be6-9f28-feadf9ca3c10",
   "metadata": {},
   "outputs": [],
   "source": [
    "from docx2pdf import convert"
   ]
  },
  {
   "cell_type": "code",
   "execution_count": 3,
   "id": "5d26c3b5-1ea0-40fa-8e17-9bef3c0636c0",
   "metadata": {},
   "outputs": [
    {
     "data": {
      "application/vnd.jupyter.widget-view+json": {
       "model_id": "f4d80451256642188a2530ea7198dd3e",
       "version_major": 2,
       "version_minor": 0
      },
      "text/plain": [
       "  0%|          | 0/1 [00:00<?, ?it/s]"
      ]
     },
     "metadata": {},
     "output_type": "display_data"
    },
    {
     "name": "stdout",
     "output_type": "stream",
     "text": [
      "pdf conversion successful\n"
     ]
    },
    {
     "data": {
      "application/vnd.jupyter.widget-view+json": {
       "model_id": "a76e55820ede4184ac6c1c54d255ecbe",
       "version_major": 2,
       "version_minor": 0
      },
      "text/plain": [
       "  0%|          | 0/1 [00:00<?, ?it/s]"
      ]
     },
     "metadata": {},
     "output_type": "display_data"
    },
    {
     "name": "stdout",
     "output_type": "stream",
     "text": [
      "pdf conversion successful\n"
     ]
    },
    {
     "data": {
      "application/vnd.jupyter.widget-view+json": {
       "model_id": "93bca78f5d554aaf8fe1f382cfb42ba0",
       "version_major": 2,
       "version_minor": 0
      },
      "text/plain": [
       "  0%|          | 0/1 [00:00<?, ?it/s]"
      ]
     },
     "metadata": {},
     "output_type": "display_data"
    },
    {
     "name": "stdout",
     "output_type": "stream",
     "text": [
      "pdf conversion successful\n"
     ]
    }
   ],
   "source": [
    "def convert_pdf(doc_file):\n",
    "    convert(doc_file)\n",
    "    print('pdf conversion successful')\n",
    "document_path = \"doc.docx\"\n",
    "document_path1 = \"doc1.docx\"\n",
    "document_path2 = \"doc2.docx\"\n",
    "convert_pdf(document_path)\n",
    "convert_pdf(document_path1)\n",
    "convert_pdf(document_path2)"
   ]
  },
  {
   "cell_type": "code",
   "execution_count": null,
   "id": "1b9463aa-72ce-433c-9b12-3944c9b2718e",
   "metadata": {},
   "outputs": [],
   "source": []
  }
 ],
 "metadata": {
  "kernelspec": {
   "display_name": "Python 3 (ipykernel)",
   "language": "python",
   "name": "python3"
  },
  "language_info": {
   "codemirror_mode": {
    "name": "ipython",
    "version": 3
   },
   "file_extension": ".py",
   "mimetype": "text/x-python",
   "name": "python",
   "nbconvert_exporter": "python",
   "pygments_lexer": "ipython3",
   "version": "3.11.7"
  }
 },
 "nbformat": 4,
 "nbformat_minor": 5
}
